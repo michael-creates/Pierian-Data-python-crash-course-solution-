{
  "nbformat": 4,
  "nbformat_minor": 0,
  "metadata": {
    "colab": {
      "name": "Python for Data Science Meetup.ipynb",
      "provenance": [],
      "include_colab_link": true
    },
    "kernelspec": {
      "name": "python3",
      "display_name": "Python 3"
    }
  },
  "cells": [
    {
      "cell_type": "markdown",
      "metadata": {
        "id": "view-in-github",
        "colab_type": "text"
      },
      "source": [
        "<a href=\"https://colab.research.google.com/github/michael-creates/Pierian-Data-python-crash-course-solution-/blob/master/Python_for_Data_Science_Meetup.ipynb\" target=\"_parent\"><img src=\"https://colab.research.google.com/assets/colab-badge.svg\" alt=\"Open In Colab\"/></a>"
      ]
    },
    {
      "cell_type": "code",
      "metadata": {
        "id": "JAV4Wx8iCPbp",
        "colab_type": "code",
        "outputId": "8b9d4abf-aff8-46f9-8d32-e06b324971ec",
        "colab": {
          "base_uri": "https://localhost:8080/",
          "height": 34
        }
      },
      "source": [
        "ls "
      ],
      "execution_count": 0,
      "outputs": [
        {
          "output_type": "stream",
          "text": [
            "\u001b[0m\u001b[01;34msample_data\u001b[0m/\n"
          ],
          "name": "stdout"
        }
      ]
    },
    {
      "cell_type": "code",
      "metadata": {
        "id": "Ytu_kpS_DkUp",
        "colab_type": "code",
        "outputId": "21f00d08-2e28-48d3-b130-c5c3d5358efb",
        "colab": {
          "base_uri": "https://localhost:8080/",
          "height": 34
        }
      },
      "source": [
        "pwd "
      ],
      "execution_count": 0,
      "outputs": [
        {
          "output_type": "execute_result",
          "data": {
            "text/plain": [
              "'/content'"
            ]
          },
          "metadata": {
            "tags": []
          },
          "execution_count": 2
        }
      ]
    },
    {
      "cell_type": "code",
      "metadata": {
        "id": "C-IrzBtPDpdv",
        "colab_type": "code",
        "outputId": "af1bcd33-e20d-42e3-eccf-cf18346cdcb9",
        "colab": {
          "base_uri": "https://localhost:8080/",
          "height": 34
        }
      },
      "source": [
        "cd ../.. "
      ],
      "execution_count": 0,
      "outputs": [
        {
          "output_type": "stream",
          "text": [
            "/\n"
          ],
          "name": "stdout"
        }
      ]
    },
    {
      "cell_type": "code",
      "metadata": {
        "id": "WWBAgQS2D8zh",
        "colab_type": "code",
        "outputId": "24f6e788-9c89-4c04-c1da-8303cedc064d",
        "colab": {
          "base_uri": "https://localhost:8080/",
          "height": 136
        }
      },
      "source": [
        "ls "
      ],
      "execution_count": 0,
      "outputs": [
        {
          "output_type": "stream",
          "text": [
            "\u001b[0m\u001b[01;34mbin\u001b[0m/                                       \u001b[01;34metc\u001b[0m/    \u001b[01;34mopt\u001b[0m/    \u001b[01;34msys\u001b[0m/\n",
            "\u001b[01;34mboot\u001b[0m/                                      \u001b[01;34mhome\u001b[0m/   \u001b[01;34mproc\u001b[0m/   \u001b[01;34mtensorflow-1.15.2\u001b[0m/\n",
            "\u001b[01;34mcontent\u001b[0m/                                   \u001b[01;34mlib\u001b[0m/    \u001b[01;34mroot\u001b[0m/   \u001b[30;42mtmp\u001b[0m/\n",
            "\u001b[01;34mdatalab\u001b[0m/                                   \u001b[01;34mlib32\u001b[0m/  \u001b[01;34mrun\u001b[0m/    \u001b[01;34mtools\u001b[0m/\n",
            "\u001b[01;34mdev\u001b[0m/                                       \u001b[01;34mlib64\u001b[0m/  \u001b[01;34msbin\u001b[0m/   \u001b[01;34musr\u001b[0m/\n",
            "dlib-19.18.0-cp27-cp27mu-linux_x86_64.whl  \u001b[01;34mmedia\u001b[0m/  \u001b[01;34msrv\u001b[0m/    \u001b[01;34mvar\u001b[0m/\n",
            "dlib-19.18.0-cp36-cp36m-linux_x86_64.whl   \u001b[01;34mmnt\u001b[0m/    \u001b[01;34mswift\u001b[0m/\n"
          ],
          "name": "stdout"
        }
      ]
    },
    {
      "cell_type": "code",
      "metadata": {
        "id": "UGtaemAYD9cm",
        "colab_type": "code",
        "outputId": "8257b78d-8860-45c0-ce98-0ad9e836dd63",
        "colab": {
          "base_uri": "https://localhost:8080/",
          "height": 34
        }
      },
      "source": [
        "cd content "
      ],
      "execution_count": 0,
      "outputs": [
        {
          "output_type": "stream",
          "text": [
            "/content\n"
          ],
          "name": "stdout"
        }
      ]
    },
    {
      "cell_type": "markdown",
      "metadata": {
        "id": "iJ2H7A9UF9PK",
        "colab_type": "text"
      },
      "source": [
        "# Agenda \n",
        "\n",
        "- Python Basics \n",
        "- Numpy \n",
        "- Pandas \n",
        "- os \n",
        "- Matplotlib \n",
        "- Seaborn "
      ]
    },
    {
      "cell_type": "code",
      "metadata": {
        "id": "t0wXTtCLGK9_",
        "colab_type": "code",
        "outputId": "248a168f-a50e-4595-911a-d6502df902ad",
        "colab": {
          "base_uri": "https://localhost:8080/",
          "height": 34
        }
      },
      "source": [
        "'rishov' "
      ],
      "execution_count": 0,
      "outputs": [
        {
          "output_type": "execute_result",
          "data": {
            "text/plain": [
              "'rishov'"
            ]
          },
          "metadata": {
            "tags": []
          },
          "execution_count": 6
        }
      ]
    },
    {
      "cell_type": "code",
      "metadata": {
        "id": "VxPckkz7Gce4",
        "colab_type": "code",
        "outputId": "f8311be7-c4d5-4305-a399-22cbde745da0",
        "colab": {
          "base_uri": "https://localhost:8080/",
          "height": 34
        }
      },
      "source": [
        "\"rishov\""
      ],
      "execution_count": 0,
      "outputs": [
        {
          "output_type": "execute_result",
          "data": {
            "text/plain": [
              "'rishov'"
            ]
          },
          "metadata": {
            "tags": []
          },
          "execution_count": 7
        }
      ]
    },
    {
      "cell_type": "code",
      "metadata": {
        "id": "DX8ybaFFGeBZ",
        "colab_type": "code",
        "outputId": "2c7ad564-2f04-4219-e329-60ed24651e2f",
        "colab": {
          "base_uri": "https://localhost:8080/",
          "height": 34
        }
      },
      "source": [
        "5 > 3 "
      ],
      "execution_count": 0,
      "outputs": [
        {
          "output_type": "execute_result",
          "data": {
            "text/plain": [
              "True"
            ]
          },
          "metadata": {
            "tags": []
          },
          "execution_count": 8
        }
      ]
    },
    {
      "cell_type": "code",
      "metadata": {
        "id": "RqsGxeLUHAkI",
        "colab_type": "code",
        "outputId": "c9a8dffd-d09a-43de-bc2a-507fcc40e4aa",
        "colab": {
          "base_uri": "https://localhost:8080/",
          "height": 34
        }
      },
      "source": [
        "my_list = ['rishov', 100, 5>3] \n",
        "my_list.append(5) \n",
        "my_list "
      ],
      "execution_count": 0,
      "outputs": [
        {
          "output_type": "execute_result",
          "data": {
            "text/plain": [
              "['rishov', 100, True, 5]"
            ]
          },
          "metadata": {
            "tags": []
          },
          "execution_count": 19
        }
      ]
    },
    {
      "cell_type": "code",
      "metadata": {
        "id": "yF8Sy5rvHVsz",
        "colab_type": "code",
        "colab": {}
      },
      "source": [
        "my_dict = {'key_1': 1000} "
      ],
      "execution_count": 0,
      "outputs": []
    },
    {
      "cell_type": "code",
      "metadata": {
        "id": "unTYhCYLHikU",
        "colab_type": "code",
        "colab": {}
      },
      "source": [
        "my_dict['key_2'] = 3000  "
      ],
      "execution_count": 0,
      "outputs": []
    },
    {
      "cell_type": "code",
      "metadata": {
        "id": "gox3DxQoIMTy",
        "colab_type": "code",
        "outputId": "5e10b37b-23c6-4bab-b3b8-5c34c2974140",
        "colab": {
          "base_uri": "https://localhost:8080/",
          "height": 34
        }
      },
      "source": [
        "my_dict "
      ],
      "execution_count": 0,
      "outputs": [
        {
          "output_type": "execute_result",
          "data": {
            "text/plain": [
              "{'key_1': 1000, 'key_2': 3000}"
            ]
          },
          "metadata": {
            "tags": []
          },
          "execution_count": 14
        }
      ]
    },
    {
      "cell_type": "code",
      "metadata": {
        "id": "8Z8L32KuIn__",
        "colab_type": "code",
        "outputId": "72bb6310-3043-40bb-fa91-c4302b347190",
        "colab": {
          "base_uri": "https://localhost:8080/",
          "height": 34
        }
      },
      "source": [
        "type(my_dict.keys())  "
      ],
      "execution_count": 0,
      "outputs": [
        {
          "output_type": "execute_result",
          "data": {
            "text/plain": [
              "dict_keys"
            ]
          },
          "metadata": {
            "tags": []
          },
          "execution_count": 16
        }
      ]
    },
    {
      "cell_type": "code",
      "metadata": {
        "id": "SOcP4_iLIx6C",
        "colab_type": "code",
        "outputId": "fbb9f38e-ff79-4517-9d11-8999c165b5c3",
        "colab": {
          "base_uri": "https://localhost:8080/",
          "height": 34
        }
      },
      "source": [
        "list(my_dict.values())  "
      ],
      "execution_count": 0,
      "outputs": [
        {
          "output_type": "execute_result",
          "data": {
            "text/plain": [
              "[1000, 3000]"
            ]
          },
          "metadata": {
            "tags": []
          },
          "execution_count": 18
        }
      ]
    },
    {
      "cell_type": "code",
      "metadata": {
        "id": "j3uIh-XdJAwQ",
        "colab_type": "code",
        "outputId": "735bcd82-2167-42d1-bdcf-259bea8faa5d",
        "colab": {
          "base_uri": "https://localhost:8080/",
          "height": 34
        }
      },
      "source": [
        "tuple(my_list)[0:3]    "
      ],
      "execution_count": 0,
      "outputs": [
        {
          "output_type": "execute_result",
          "data": {
            "text/plain": [
              "('rishov', 100, True)"
            ]
          },
          "metadata": {
            "tags": []
          },
          "execution_count": 24
        }
      ]
    },
    {
      "cell_type": "code",
      "metadata": {
        "id": "n6SEBT9AKGVb",
        "colab_type": "code",
        "outputId": "62ca6d45-5fdb-404a-a8e4-fb48af0c01f7",
        "colab": {
          "base_uri": "https://localhost:8080/",
          "height": 34
        }
      },
      "source": [
        "'rishov'[0:4]"
      ],
      "execution_count": 0,
      "outputs": [
        {
          "output_type": "execute_result",
          "data": {
            "text/plain": [
              "'rish'"
            ]
          },
          "metadata": {
            "tags": []
          },
          "execution_count": 28
        }
      ]
    },
    {
      "cell_type": "code",
      "metadata": {
        "id": "W8TMaa_KK5S_",
        "colab_type": "code",
        "outputId": "716755db-3fbd-4157-8017-d6f7c9fb39f6",
        "colab": {
          "base_uri": "https://localhost:8080/",
          "height": 34
        }
      },
      "source": [
        "dup_list = [1, 1, 1, 2, 2, 2, 2, 3, 3] \n",
        "dup_list "
      ],
      "execution_count": 0,
      "outputs": [
        {
          "output_type": "execute_result",
          "data": {
            "text/plain": [
              "[1, 1, 1, 2, 2, 2, 2, 3, 3]"
            ]
          },
          "metadata": {
            "tags": []
          },
          "execution_count": 29
        }
      ]
    },
    {
      "cell_type": "code",
      "metadata": {
        "id": "PBSh-ezLLv-2",
        "colab_type": "code",
        "outputId": "0349d2bd-4efc-4302-8a59-16d70f03cdb0",
        "colab": {
          "base_uri": "https://localhost:8080/",
          "height": 34
        }
      },
      "source": [
        "list(set(dup_list))  "
      ],
      "execution_count": 0,
      "outputs": [
        {
          "output_type": "execute_result",
          "data": {
            "text/plain": [
              "[1, 2, 3]"
            ]
          },
          "metadata": {
            "tags": []
          },
          "execution_count": 31
        }
      ]
    },
    {
      "cell_type": "markdown",
      "metadata": {
        "id": "_QaDndW8MVPQ",
        "colab_type": "text"
      },
      "source": [
        "# Lists"
      ]
    },
    {
      "cell_type": "code",
      "metadata": {
        "id": "92Y1GlliMV0X",
        "colab_type": "code",
        "outputId": "2354a120-8f34-4cad-9687-1f2f84a85a7f",
        "colab": {
          "base_uri": "https://localhost:8080/",
          "height": 34
        }
      },
      "source": [
        "empty_list = [] \n",
        "\n",
        "for i in range(1, 11):\n",
        "  empty_list.append(i)\n",
        "\n",
        "empty_list "
      ],
      "execution_count": 0,
      "outputs": [
        {
          "output_type": "execute_result",
          "data": {
            "text/plain": [
              "[1, 2, 3, 4, 5, 6, 7, 8, 9, 10]"
            ]
          },
          "metadata": {
            "tags": []
          },
          "execution_count": 32
        }
      ]
    },
    {
      "cell_type": "code",
      "metadata": {
        "id": "jyk_VRi5NKKF",
        "colab_type": "code",
        "outputId": "b0ea8ab5-0e6d-4982-ecf6-e31a722fd22c",
        "colab": {
          "base_uri": "https://localhost:8080/",
          "height": 34
        }
      },
      "source": [
        "empty_list_v2 = [i for i in range(1, 11)] \n",
        "empty_list_v2 "
      ],
      "execution_count": 0,
      "outputs": [
        {
          "output_type": "execute_result",
          "data": {
            "text/plain": [
              "[1, 2, 3, 4, 5, 6, 7, 8, 9, 10]"
            ]
          },
          "metadata": {
            "tags": []
          },
          "execution_count": 33
        }
      ]
    },
    {
      "cell_type": "code",
      "metadata": {
        "id": "8GTY4TpPNWmH",
        "colab_type": "code",
        "outputId": "77015d18-9060-43c5-e5ee-395ee1735a31",
        "colab": {
          "base_uri": "https://localhost:8080/",
          "height": 34
        }
      },
      "source": [
        "sum(empty_list_v2) "
      ],
      "execution_count": 0,
      "outputs": [
        {
          "output_type": "execute_result",
          "data": {
            "text/plain": [
              "55"
            ]
          },
          "metadata": {
            "tags": []
          },
          "execution_count": 34
        }
      ]
    },
    {
      "cell_type": "code",
      "metadata": {
        "id": "CGKtuqZvOZr-",
        "colab_type": "code",
        "outputId": "9c2b20c1-04b5-4ad8-8511-7043e86bb7f7",
        "colab": {
          "base_uri": "https://localhost:8080/",
          "height": 68
        }
      },
      "source": [
        "count = 0 \n",
        "\n",
        "while count < 3:\n",
        "  print(count + 5) \n",
        "  count += 1 "
      ],
      "execution_count": 0,
      "outputs": [
        {
          "output_type": "stream",
          "text": [
            "5\n",
            "6\n",
            "7\n"
          ],
          "name": "stdout"
        }
      ]
    },
    {
      "cell_type": "markdown",
      "metadata": {
        "id": "DI3iemZSQTzJ",
        "colab_type": "text"
      },
      "source": [
        "# Functions "
      ]
    },
    {
      "cell_type": "code",
      "metadata": {
        "id": "sDGjxJ4fPfKe",
        "colab_type": "code",
        "colab": {}
      },
      "source": [
        "def f1(v1, v2, v3): \n",
        "  return v1 + v2 + v3\n",
        "\n"
      ],
      "execution_count": 0,
      "outputs": []
    },
    {
      "cell_type": "code",
      "metadata": {
        "id": "sYsig9z0Qwp5",
        "colab_type": "code",
        "outputId": "8d0e97cf-122e-4a55-bbb7-af1daebf8582",
        "colab": {
          "base_uri": "https://localhost:8080/",
          "height": 34
        }
      },
      "source": [
        "f1(1,2,3)  "
      ],
      "execution_count": 0,
      "outputs": [
        {
          "output_type": "execute_result",
          "data": {
            "text/plain": [
              "6"
            ]
          },
          "metadata": {
            "tags": []
          },
          "execution_count": 37
        }
      ]
    },
    {
      "cell_type": "markdown",
      "metadata": {
        "id": "AXqhXuweRGyS",
        "colab_type": "text"
      },
      "source": [
        "# Numpy "
      ]
    },
    {
      "cell_type": "code",
      "metadata": {
        "id": "UovAUGy4RH2i",
        "colab_type": "code",
        "colab": {}
      },
      "source": [
        "import numpy as np \n",
        "\n",
        "my_arr = np.array([[i for i in range(1,11)]])  "
      ],
      "execution_count": 0,
      "outputs": []
    },
    {
      "cell_type": "code",
      "metadata": {
        "id": "J_5s99CFSDen",
        "colab_type": "code",
        "outputId": "a0993a3d-1c2d-4881-cd16-2bf93be0fc31",
        "colab": {
          "base_uri": "https://localhost:8080/",
          "height": 34
        }
      },
      "source": [
        "my_arr.shape "
      ],
      "execution_count": 0,
      "outputs": [
        {
          "output_type": "execute_result",
          "data": {
            "text/plain": [
              "(1, 10)"
            ]
          },
          "metadata": {
            "tags": []
          },
          "execution_count": 41
        }
      ]
    },
    {
      "cell_type": "code",
      "metadata": {
        "id": "jE0WD5BJSZ3q",
        "colab_type": "code",
        "outputId": "c50e328a-0351-4438-c69e-fe16dde23d92",
        "colab": {
          "base_uri": "https://localhost:8080/",
          "height": 187
        }
      },
      "source": [
        "my_arr.T "
      ],
      "execution_count": 0,
      "outputs": [
        {
          "output_type": "execute_result",
          "data": {
            "text/plain": [
              "array([[ 1],\n",
              "       [ 2],\n",
              "       [ 3],\n",
              "       [ 4],\n",
              "       [ 5],\n",
              "       [ 6],\n",
              "       [ 7],\n",
              "       [ 8],\n",
              "       [ 9],\n",
              "       [10]])"
            ]
          },
          "metadata": {
            "tags": []
          },
          "execution_count": 42
        }
      ]
    },
    {
      "cell_type": "code",
      "metadata": {
        "id": "H9rbPVw_SxAL",
        "colab_type": "code",
        "outputId": "d9e81ec2-b135-4da6-d749-65ebd52e5340",
        "colab": {
          "base_uri": "https://localhost:8080/",
          "height": 102
        }
      },
      "source": [
        "my_arr.reshape(5, 2) "
      ],
      "execution_count": 0,
      "outputs": [
        {
          "output_type": "execute_result",
          "data": {
            "text/plain": [
              "array([[ 1,  2],\n",
              "       [ 3,  4],\n",
              "       [ 5,  6],\n",
              "       [ 7,  8],\n",
              "       [ 9, 10]])"
            ]
          },
          "metadata": {
            "tags": []
          },
          "execution_count": 43
        }
      ]
    },
    {
      "cell_type": "code",
      "metadata": {
        "id": "FHklpTRAS4h-",
        "colab_type": "code",
        "outputId": "0587cb44-bf30-4187-8c77-1ba412839bd3",
        "colab": {
          "base_uri": "https://localhost:8080/",
          "height": 34
        }
      },
      "source": [
        "my_arr.shape "
      ],
      "execution_count": 0,
      "outputs": [
        {
          "output_type": "execute_result",
          "data": {
            "text/plain": [
              "(1, 10)"
            ]
          },
          "metadata": {
            "tags": []
          },
          "execution_count": 44
        }
      ]
    },
    {
      "cell_type": "code",
      "metadata": {
        "id": "TwzyiAD6T1RI",
        "colab_type": "code",
        "colab": {}
      },
      "source": [
        "x = np.random.randint(1, 100, 10000)  "
      ],
      "execution_count": 0,
      "outputs": []
    },
    {
      "cell_type": "code",
      "metadata": {
        "id": "_N8aC7NIUepD",
        "colab_type": "code",
        "colab": {}
      },
      "source": [
        "x = x.reshape(10000, 1) "
      ],
      "execution_count": 0,
      "outputs": []
    },
    {
      "cell_type": "code",
      "metadata": {
        "id": "JQ7UDiiDUkjT",
        "colab_type": "code",
        "outputId": "77e807ee-9b1d-4e58-a175-fe916236cc3c",
        "colab": {
          "base_uri": "https://localhost:8080/",
          "height": 34
        }
      },
      "source": [
        "x.shape "
      ],
      "execution_count": 0,
      "outputs": [
        {
          "output_type": "execute_result",
          "data": {
            "text/plain": [
              "(10000, 1)"
            ]
          },
          "metadata": {
            "tags": []
          },
          "execution_count": 49
        }
      ]
    },
    {
      "cell_type": "code",
      "metadata": {
        "id": "w2WXzuNvUtx8",
        "colab_type": "code",
        "outputId": "c4101902-8f2f-4c39-e838-26fe9804250c",
        "colab": {
          "base_uri": "https://localhost:8080/",
          "height": 34
        }
      },
      "source": [
        "x.T.shape "
      ],
      "execution_count": 0,
      "outputs": [
        {
          "output_type": "execute_result",
          "data": {
            "text/plain": [
              "(1, 10000)"
            ]
          },
          "metadata": {
            "tags": []
          },
          "execution_count": 51
        }
      ]
    },
    {
      "cell_type": "code",
      "metadata": {
        "id": "bYq9EO2jUvOk",
        "colab_type": "code",
        "outputId": "2f2905f0-443a-415d-9f5a-7a1fd74ef66a",
        "colab": {
          "base_uri": "https://localhost:8080/",
          "height": 34
        }
      },
      "source": [
        "100 * 100 "
      ],
      "execution_count": 0,
      "outputs": [
        {
          "output_type": "execute_result",
          "data": {
            "text/plain": [
              "10000"
            ]
          },
          "metadata": {
            "tags": []
          },
          "execution_count": 52
        }
      ]
    },
    {
      "cell_type": "code",
      "metadata": {
        "id": "v3c0EL1ZVAtV",
        "colab_type": "code",
        "outputId": "3a28a23d-85b3-4f79-8aed-a829c5cb48f7",
        "colab": {
          "base_uri": "https://localhost:8080/",
          "height": 34
        }
      },
      "source": [
        "x = x.reshape(100, 100, order='F')  \n",
        "x.shape "
      ],
      "execution_count": 0,
      "outputs": [
        {
          "output_type": "execute_result",
          "data": {
            "text/plain": [
              "(100, 100)"
            ]
          },
          "metadata": {
            "tags": []
          },
          "execution_count": 55
        }
      ]
    },
    {
      "cell_type": "code",
      "metadata": {
        "id": "3mw0_7q8VHAX",
        "colab_type": "code",
        "outputId": "d50b96fd-0224-4a6a-ec38-b5afb24df875",
        "colab": {
          "base_uri": "https://localhost:8080/",
          "height": 34
        }
      },
      "source": [
        "x[0, 0] "
      ],
      "execution_count": 0,
      "outputs": [
        {
          "output_type": "execute_result",
          "data": {
            "text/plain": [
              "97"
            ]
          },
          "metadata": {
            "tags": []
          },
          "execution_count": 56
        }
      ]
    },
    {
      "cell_type": "code",
      "metadata": {
        "id": "orh14esCVSeY",
        "colab_type": "code",
        "colab": {}
      },
      "source": [
        ""
      ],
      "execution_count": 0,
      "outputs": []
    },
    {
      "cell_type": "markdown",
      "metadata": {
        "id": "vX7VkHyQWNlM",
        "colab_type": "text"
      },
      "source": [
        "# Pandas \n",
        "\n"
      ]
    },
    {
      "cell_type": "code",
      "metadata": {
        "id": "7lb5MCE2WPLa",
        "colab_type": "code",
        "outputId": "3b5acb6c-7abf-4648-c209-d88d9003eebf",
        "colab": {
          "base_uri": "https://localhost:8080/",
          "height": 221
        }
      },
      "source": [
        "import pandas as pd \n",
        "\n",
        "\n",
        "apple_prices = np.random.randint(100, 4000, 500) \n",
        "microsoft_prices = np.random.randint(20, 2000, 500) \n",
        "google_prices = np.random.randint(25, 2500, 500) \n",
        "\n",
        "price_dict = {'apple': apple_prices, 'microsoft': microsoft_prices, 'google': google_prices} \n",
        "\n",
        "price_df = pd.DataFrame.from_dict(price_dict) \n",
        "\n",
        "price_df['microsoft']   "
      ],
      "execution_count": 0,
      "outputs": [
        {
          "output_type": "execute_result",
          "data": {
            "text/plain": [
              "0      1419\n",
              "1       888\n",
              "2      1989\n",
              "3      1156\n",
              "4       340\n",
              "       ... \n",
              "495     398\n",
              "496    1881\n",
              "497     388\n",
              "498      31\n",
              "499     354\n",
              "Name: microsoft, Length: 500, dtype: int64"
            ]
          },
          "metadata": {
            "tags": []
          },
          "execution_count": 59
        }
      ]
    },
    {
      "cell_type": "code",
      "metadata": {
        "id": "i89QIfqrXNh7",
        "colab_type": "code",
        "outputId": "6ae6c4a8-4079-4fe4-deae-b102cd1aeae4",
        "colab": {
          "base_uri": "https://localhost:8080/",
          "height": 297
        }
      },
      "source": [
        "price_df.describe() "
      ],
      "execution_count": 0,
      "outputs": [
        {
          "output_type": "execute_result",
          "data": {
            "text/html": [
              "<div>\n",
              "<style scoped>\n",
              "    .dataframe tbody tr th:only-of-type {\n",
              "        vertical-align: middle;\n",
              "    }\n",
              "\n",
              "    .dataframe tbody tr th {\n",
              "        vertical-align: top;\n",
              "    }\n",
              "\n",
              "    .dataframe thead th {\n",
              "        text-align: right;\n",
              "    }\n",
              "</style>\n",
              "<table border=\"1\" class=\"dataframe\">\n",
              "  <thead>\n",
              "    <tr style=\"text-align: right;\">\n",
              "      <th></th>\n",
              "      <th>apple</th>\n",
              "      <th>microsoft</th>\n",
              "      <th>google</th>\n",
              "    </tr>\n",
              "  </thead>\n",
              "  <tbody>\n",
              "    <tr>\n",
              "      <th>count</th>\n",
              "      <td>500.000000</td>\n",
              "      <td>500.000000</td>\n",
              "      <td>500.000000</td>\n",
              "    </tr>\n",
              "    <tr>\n",
              "      <th>mean</th>\n",
              "      <td>2051.968000</td>\n",
              "      <td>964.744000</td>\n",
              "      <td>1257.844000</td>\n",
              "    </tr>\n",
              "    <tr>\n",
              "      <th>std</th>\n",
              "      <td>1125.721732</td>\n",
              "      <td>583.425812</td>\n",
              "      <td>701.725657</td>\n",
              "    </tr>\n",
              "    <tr>\n",
              "      <th>min</th>\n",
              "      <td>109.000000</td>\n",
              "      <td>20.000000</td>\n",
              "      <td>26.000000</td>\n",
              "    </tr>\n",
              "    <tr>\n",
              "      <th>25%</th>\n",
              "      <td>1057.000000</td>\n",
              "      <td>451.750000</td>\n",
              "      <td>666.750000</td>\n",
              "    </tr>\n",
              "    <tr>\n",
              "      <th>50%</th>\n",
              "      <td>1984.000000</td>\n",
              "      <td>935.000000</td>\n",
              "      <td>1293.000000</td>\n",
              "    </tr>\n",
              "    <tr>\n",
              "      <th>75%</th>\n",
              "      <td>3068.500000</td>\n",
              "      <td>1477.500000</td>\n",
              "      <td>1823.500000</td>\n",
              "    </tr>\n",
              "    <tr>\n",
              "      <th>max</th>\n",
              "      <td>3980.000000</td>\n",
              "      <td>1998.000000</td>\n",
              "      <td>2482.000000</td>\n",
              "    </tr>\n",
              "  </tbody>\n",
              "</table>\n",
              "</div>"
            ],
            "text/plain": [
              "             apple    microsoft       google\n",
              "count   500.000000   500.000000   500.000000\n",
              "mean   2051.968000   964.744000  1257.844000\n",
              "std    1125.721732   583.425812   701.725657\n",
              "min     109.000000    20.000000    26.000000\n",
              "25%    1057.000000   451.750000   666.750000\n",
              "50%    1984.000000   935.000000  1293.000000\n",
              "75%    3068.500000  1477.500000  1823.500000\n",
              "max    3980.000000  1998.000000  2482.000000"
            ]
          },
          "metadata": {
            "tags": []
          },
          "execution_count": 60
        }
      ]
    },
    {
      "cell_type": "code",
      "metadata": {
        "id": "LMjFBiVVXt3Y",
        "colab_type": "code",
        "outputId": "e152c6bc-24f7-4d8c-fbc2-603aed0bad98",
        "colab": {
          "base_uri": "https://localhost:8080/",
          "height": 34
        }
      },
      "source": [
        "len(list(price_df['apple'].value_counts().to_dict().keys())) "
      ],
      "execution_count": 0,
      "outputs": [
        {
          "output_type": "execute_result",
          "data": {
            "text/plain": [
              "461"
            ]
          },
          "metadata": {
            "tags": []
          },
          "execution_count": 64
        }
      ]
    },
    {
      "cell_type": "code",
      "metadata": {
        "id": "jMF2n8W7YABJ",
        "colab_type": "code",
        "outputId": "ad10a54e-306f-4b22-c687-60b344a4752a",
        "colab": {
          "base_uri": "https://localhost:8080/",
          "height": 34
        }
      },
      "source": [
        "# Creating a function to process the url for obtaining the data of your artist \n",
        "def url_handler(artist_name):\n",
        "    raw_url_header = \"https://raw.githubusercontent.com/ChanR-Analytics/Rainstorm_Spotify_App/master/data/\"\n",
        "    # Use special url encoding if there's spaces in your artist's name\n",
        "    if (len(artist_name.split()) > 1):\n",
        "        artist_url_char_strings = artist_name.split()\n",
        "        artist_string = \"%20\".join(artist_url_char_strings)\n",
        "        artist_data_url = raw_url_header + artist_string + \".csv\"\n",
        "    # If there's no space, just get the data as it is processed \n",
        "    else:\n",
        "        artist_data_url = raw_url_header + artist_name + \".csv\"\n",
        "    return artist_data_url\n",
        " \n",
        " \n",
        "# Type in the name of your artist as you typed it in the Spotify Data Collection App \n",
        "artist_name = input(\"Type in your artist's name: \") \n",
        " \n",
        "# Use a variable to get the specific url containing your artist's data\n",
        "my_data = url_handler(artist_name) \n",
        " \n",
        "# Let pandas create a data frame out of your data \n",
        "song_df = pd.read_csv(my_data) "
      ],
      "execution_count": 0,
      "outputs": [
        {
          "output_type": "stream",
          "text": [
            "Type in your artist's name: Alina Baraz\n"
          ],
          "name": "stdout"
        }
      ]
    },
    {
      "cell_type": "code",
      "metadata": {
        "id": "NKuwrifqZm4x",
        "colab_type": "code",
        "outputId": "220f0955-c887-4cc0-b0cb-32ce7eae8a40",
        "colab": {
          "base_uri": "https://localhost:8080/",
          "height": 1000
        }
      },
      "source": [
        "song_df  "
      ],
      "execution_count": 0,
      "outputs": [
        {
          "output_type": "execute_result",
          "data": {
            "text/html": [
              "<div>\n",
              "<style scoped>\n",
              "    .dataframe tbody tr th:only-of-type {\n",
              "        vertical-align: middle;\n",
              "    }\n",
              "\n",
              "    .dataframe tbody tr th {\n",
              "        vertical-align: top;\n",
              "    }\n",
              "\n",
              "    .dataframe thead th {\n",
              "        text-align: right;\n",
              "    }\n",
              "</style>\n",
              "<table border=\"1\" class=\"dataframe\">\n",
              "  <thead>\n",
              "    <tr style=\"text-align: right;\">\n",
              "      <th></th>\n",
              "      <th>album</th>\n",
              "      <th>track_number</th>\n",
              "      <th>id</th>\n",
              "      <th>name</th>\n",
              "      <th>uri</th>\n",
              "      <th>acousticness</th>\n",
              "      <th>danceability</th>\n",
              "      <th>energy</th>\n",
              "      <th>instrumentalness</th>\n",
              "      <th>liveness</th>\n",
              "      <th>loudness</th>\n",
              "      <th>speechiness</th>\n",
              "      <th>tempo</th>\n",
              "      <th>valence</th>\n",
              "      <th>popularity</th>\n",
              "    </tr>\n",
              "  </thead>\n",
              "  <tbody>\n",
              "    <tr>\n",
              "      <th>0</th>\n",
              "      <td>It Was Divine</td>\n",
              "      <td>1</td>\n",
              "      <td>3WPK4vjLMa9ZxaYetkh47M</td>\n",
              "      <td>My Whole Life</td>\n",
              "      <td>spotify:track:3WPK4vjLMa9ZxaYetkh47M</td>\n",
              "      <td>0.754000</td>\n",
              "      <td>0.358</td>\n",
              "      <td>0.457</td>\n",
              "      <td>0.000469</td>\n",
              "      <td>0.2590</td>\n",
              "      <td>-11.281</td>\n",
              "      <td>0.0421</td>\n",
              "      <td>180.144</td>\n",
              "      <td>0.336</td>\n",
              "      <td>61</td>\n",
              "    </tr>\n",
              "    <tr>\n",
              "      <th>1</th>\n",
              "      <td>It Was Divine</td>\n",
              "      <td>2</td>\n",
              "      <td>6cZCrWA68xFTljPmBHPlwJ</td>\n",
              "      <td>Morocco (feat. 6LACK)</td>\n",
              "      <td>spotify:track:6cZCrWA68xFTljPmBHPlwJ</td>\n",
              "      <td>0.068600</td>\n",
              "      <td>0.615</td>\n",
              "      <td>0.713</td>\n",
              "      <td>0.001440</td>\n",
              "      <td>0.1540</td>\n",
              "      <td>-3.539</td>\n",
              "      <td>0.0355</td>\n",
              "      <td>78.033</td>\n",
              "      <td>0.514</td>\n",
              "      <td>60</td>\n",
              "    </tr>\n",
              "    <tr>\n",
              "      <th>2</th>\n",
              "      <td>It Was Divine</td>\n",
              "      <td>3</td>\n",
              "      <td>7fUbgLWI7UcYAyjtdKEvkL</td>\n",
              "      <td>Frank</td>\n",
              "      <td>spotify:track:7fUbgLWI7UcYAyjtdKEvkL</td>\n",
              "      <td>0.704000</td>\n",
              "      <td>0.601</td>\n",
              "      <td>0.384</td>\n",
              "      <td>0.045400</td>\n",
              "      <td>0.0845</td>\n",
              "      <td>-9.866</td>\n",
              "      <td>0.0415</td>\n",
              "      <td>129.916</td>\n",
              "      <td>0.172</td>\n",
              "      <td>59</td>\n",
              "    </tr>\n",
              "    <tr>\n",
              "      <th>3</th>\n",
              "      <td>It Was Divine</td>\n",
              "      <td>4</td>\n",
              "      <td>7cIPifhS3R4rF4sKi8466d</td>\n",
              "      <td>Endlessly</td>\n",
              "      <td>spotify:track:7cIPifhS3R4rF4sKi8466d</td>\n",
              "      <td>0.684000</td>\n",
              "      <td>0.687</td>\n",
              "      <td>0.445</td>\n",
              "      <td>0.023700</td>\n",
              "      <td>0.1100</td>\n",
              "      <td>-9.110</td>\n",
              "      <td>0.0635</td>\n",
              "      <td>117.981</td>\n",
              "      <td>0.435</td>\n",
              "      <td>59</td>\n",
              "    </tr>\n",
              "    <tr>\n",
              "      <th>4</th>\n",
              "      <td>It Was Divine</td>\n",
              "      <td>5</td>\n",
              "      <td>3Slv3vJ64a4bW8yR0llk70</td>\n",
              "      <td>Gimme the Wheel (feat. Smino)</td>\n",
              "      <td>spotify:track:3Slv3vJ64a4bW8yR0llk70</td>\n",
              "      <td>0.165000</td>\n",
              "      <td>0.808</td>\n",
              "      <td>0.579</td>\n",
              "      <td>0.000039</td>\n",
              "      <td>0.1060</td>\n",
              "      <td>-6.538</td>\n",
              "      <td>0.1430</td>\n",
              "      <td>101.951</td>\n",
              "      <td>0.676</td>\n",
              "      <td>59</td>\n",
              "    </tr>\n",
              "    <tr>\n",
              "      <th>5</th>\n",
              "      <td>It Was Divine</td>\n",
              "      <td>6</td>\n",
              "      <td>3U62bHMhP7bKAFYMkn3fNx</td>\n",
              "      <td>Off the Grid (feat. Khalid)</td>\n",
              "      <td>spotify:track:3U62bHMhP7bKAFYMkn3fNx</td>\n",
              "      <td>0.313000</td>\n",
              "      <td>0.679</td>\n",
              "      <td>0.533</td>\n",
              "      <td>0.033600</td>\n",
              "      <td>0.1710</td>\n",
              "      <td>-8.454</td>\n",
              "      <td>0.0766</td>\n",
              "      <td>83.502</td>\n",
              "      <td>0.521</td>\n",
              "      <td>67</td>\n",
              "    </tr>\n",
              "    <tr>\n",
              "      <th>6</th>\n",
              "      <td>It Was Divine</td>\n",
              "      <td>7</td>\n",
              "      <td>1tNK6PDCrJLEa2AQBCEfjP</td>\n",
              "      <td>More Than Enough</td>\n",
              "      <td>spotify:track:1tNK6PDCrJLEa2AQBCEfjP</td>\n",
              "      <td>0.260000</td>\n",
              "      <td>0.648</td>\n",
              "      <td>0.531</td>\n",
              "      <td>0.000897</td>\n",
              "      <td>0.1200</td>\n",
              "      <td>-5.886</td>\n",
              "      <td>0.0345</td>\n",
              "      <td>143.008</td>\n",
              "      <td>0.253</td>\n",
              "      <td>60</td>\n",
              "    </tr>\n",
              "    <tr>\n",
              "      <th>7</th>\n",
              "      <td>It Was Divine</td>\n",
              "      <td>8</td>\n",
              "      <td>4lj1We6JrzxZRIBEQLrqLO</td>\n",
              "      <td>Night and Morning</td>\n",
              "      <td>spotify:track:4lj1We6JrzxZRIBEQLrqLO</td>\n",
              "      <td>0.265000</td>\n",
              "      <td>0.426</td>\n",
              "      <td>0.484</td>\n",
              "      <td>0.004790</td>\n",
              "      <td>0.2150</td>\n",
              "      <td>-9.416</td>\n",
              "      <td>0.0741</td>\n",
              "      <td>128.052</td>\n",
              "      <td>0.343</td>\n",
              "      <td>59</td>\n",
              "    </tr>\n",
              "    <tr>\n",
              "      <th>8</th>\n",
              "      <td>It Was Divine</td>\n",
              "      <td>9</td>\n",
              "      <td>0MfMCBfIEDWroH9E09QoJu</td>\n",
              "      <td>To Me</td>\n",
              "      <td>spotify:track:0MfMCBfIEDWroH9E09QoJu</td>\n",
              "      <td>0.421000</td>\n",
              "      <td>0.276</td>\n",
              "      <td>0.558</td>\n",
              "      <td>0.248000</td>\n",
              "      <td>0.0885</td>\n",
              "      <td>-9.811</td>\n",
              "      <td>0.0439</td>\n",
              "      <td>78.021</td>\n",
              "      <td>0.040</td>\n",
              "      <td>62</td>\n",
              "    </tr>\n",
              "    <tr>\n",
              "      <th>9</th>\n",
              "      <td>It Was Divine</td>\n",
              "      <td>10</td>\n",
              "      <td>5k9vTu8mzn8HcD3oApDv37</td>\n",
              "      <td>Memo Blue</td>\n",
              "      <td>spotify:track:5k9vTu8mzn8HcD3oApDv37</td>\n",
              "      <td>0.980000</td>\n",
              "      <td>0.388</td>\n",
              "      <td>0.245</td>\n",
              "      <td>0.407000</td>\n",
              "      <td>0.3500</td>\n",
              "      <td>-17.634</td>\n",
              "      <td>0.0527</td>\n",
              "      <td>117.483</td>\n",
              "      <td>0.237</td>\n",
              "      <td>56</td>\n",
              "    </tr>\n",
              "    <tr>\n",
              "      <th>10</th>\n",
              "      <td>It Was Divine</td>\n",
              "      <td>11</td>\n",
              "      <td>7wiSDisQKzOPXt5nSHHCv2</td>\n",
              "      <td>Who Got Me</td>\n",
              "      <td>spotify:track:7wiSDisQKzOPXt5nSHHCv2</td>\n",
              "      <td>0.753000</td>\n",
              "      <td>0.696</td>\n",
              "      <td>0.430</td>\n",
              "      <td>0.014000</td>\n",
              "      <td>0.1020</td>\n",
              "      <td>-8.614</td>\n",
              "      <td>0.0315</td>\n",
              "      <td>105.977</td>\n",
              "      <td>0.254</td>\n",
              "      <td>57</td>\n",
              "    </tr>\n",
              "    <tr>\n",
              "      <th>11</th>\n",
              "      <td>It Was Divine</td>\n",
              "      <td>12</td>\n",
              "      <td>60xjPM8ZvTv855pR8eXEaM</td>\n",
              "      <td>Say You Know</td>\n",
              "      <td>spotify:track:60xjPM8ZvTv855pR8eXEaM</td>\n",
              "      <td>0.687000</td>\n",
              "      <td>0.475</td>\n",
              "      <td>0.330</td>\n",
              "      <td>0.000014</td>\n",
              "      <td>0.1850</td>\n",
              "      <td>-10.836</td>\n",
              "      <td>0.0332</td>\n",
              "      <td>120.275</td>\n",
              "      <td>0.261</td>\n",
              "      <td>56</td>\n",
              "    </tr>\n",
              "    <tr>\n",
              "      <th>12</th>\n",
              "      <td>It Was Divine</td>\n",
              "      <td>13</td>\n",
              "      <td>3jbsRIkAf3vr818MKAtftO</td>\n",
              "      <td>Take It Home</td>\n",
              "      <td>spotify:track:3jbsRIkAf3vr818MKAtftO</td>\n",
              "      <td>0.439000</td>\n",
              "      <td>0.607</td>\n",
              "      <td>0.514</td>\n",
              "      <td>0.000003</td>\n",
              "      <td>0.3560</td>\n",
              "      <td>-9.526</td>\n",
              "      <td>0.0483</td>\n",
              "      <td>97.985</td>\n",
              "      <td>0.405</td>\n",
              "      <td>56</td>\n",
              "    </tr>\n",
              "    <tr>\n",
              "      <th>13</th>\n",
              "      <td>It Was Divine</td>\n",
              "      <td>14</td>\n",
              "      <td>5HPpYuHO4nFSE7F8rgf4E1</td>\n",
              "      <td>Be Good</td>\n",
              "      <td>spotify:track:5HPpYuHO4nFSE7F8rgf4E1</td>\n",
              "      <td>0.054700</td>\n",
              "      <td>0.751</td>\n",
              "      <td>0.599</td>\n",
              "      <td>0.004790</td>\n",
              "      <td>0.1230</td>\n",
              "      <td>-6.600</td>\n",
              "      <td>0.0753</td>\n",
              "      <td>136.889</td>\n",
              "      <td>0.655</td>\n",
              "      <td>54</td>\n",
              "    </tr>\n",
              "    <tr>\n",
              "      <th>14</th>\n",
              "      <td>It Was Divine</td>\n",
              "      <td>15</td>\n",
              "      <td>5tvOLMuCEJqn97twRmMhW9</td>\n",
              "      <td>Until I Met You (feat. Nas)</td>\n",
              "      <td>spotify:track:5tvOLMuCEJqn97twRmMhW9</td>\n",
              "      <td>0.293000</td>\n",
              "      <td>0.430</td>\n",
              "      <td>0.721</td>\n",
              "      <td>0.000045</td>\n",
              "      <td>0.1390</td>\n",
              "      <td>-6.818</td>\n",
              "      <td>0.1070</td>\n",
              "      <td>82.634</td>\n",
              "      <td>0.214</td>\n",
              "      <td>57</td>\n",
              "    </tr>\n",
              "    <tr>\n",
              "      <th>15</th>\n",
              "      <td>It Was Divine</td>\n",
              "      <td>16</td>\n",
              "      <td>46BEdbS8fN3xTRxGtiLiZ6</td>\n",
              "      <td>The Beginning</td>\n",
              "      <td>spotify:track:46BEdbS8fN3xTRxGtiLiZ6</td>\n",
              "      <td>0.585000</td>\n",
              "      <td>0.602</td>\n",
              "      <td>0.564</td>\n",
              "      <td>0.137000</td>\n",
              "      <td>0.1200</td>\n",
              "      <td>-12.497</td>\n",
              "      <td>0.0337</td>\n",
              "      <td>150.014</td>\n",
              "      <td>0.291</td>\n",
              "      <td>54</td>\n",
              "    </tr>\n",
              "    <tr>\n",
              "      <th>16</th>\n",
              "      <td>The Color Of You</td>\n",
              "      <td>1</td>\n",
              "      <td>4jdmvZ64AR3IR9G59IFTKq</td>\n",
              "      <td>Fallin</td>\n",
              "      <td>spotify:track:4jdmvZ64AR3IR9G59IFTKq</td>\n",
              "      <td>0.339000</td>\n",
              "      <td>0.589</td>\n",
              "      <td>0.466</td>\n",
              "      <td>0.000029</td>\n",
              "      <td>0.1550</td>\n",
              "      <td>-9.049</td>\n",
              "      <td>0.2150</td>\n",
              "      <td>87.117</td>\n",
              "      <td>0.343</td>\n",
              "      <td>52</td>\n",
              "    </tr>\n",
              "    <tr>\n",
              "      <th>17</th>\n",
              "      <td>The Color Of You</td>\n",
              "      <td>2</td>\n",
              "      <td>2vLWF4yFhTHQZVwrPTjH1s</td>\n",
              "      <td>Floating (feat. Khalid)</td>\n",
              "      <td>spotify:track:2vLWF4yFhTHQZVwrPTjH1s</td>\n",
              "      <td>0.810000</td>\n",
              "      <td>0.660</td>\n",
              "      <td>0.447</td>\n",
              "      <td>0.000002</td>\n",
              "      <td>0.1100</td>\n",
              "      <td>-9.026</td>\n",
              "      <td>0.0482</td>\n",
              "      <td>84.950</td>\n",
              "      <td>0.578</td>\n",
              "      <td>71</td>\n",
              "    </tr>\n",
              "    <tr>\n",
              "      <th>18</th>\n",
              "      <td>The Color Of You</td>\n",
              "      <td>3</td>\n",
              "      <td>37IFgb5CFQap5WiPx1owPS</td>\n",
              "      <td>High</td>\n",
              "      <td>spotify:track:37IFgb5CFQap5WiPx1owPS</td>\n",
              "      <td>0.507000</td>\n",
              "      <td>0.731</td>\n",
              "      <td>0.294</td>\n",
              "      <td>0.000011</td>\n",
              "      <td>0.0674</td>\n",
              "      <td>-11.607</td>\n",
              "      <td>0.2250</td>\n",
              "      <td>109.922</td>\n",
              "      <td>0.259</td>\n",
              "      <td>53</td>\n",
              "    </tr>\n",
              "    <tr>\n",
              "      <th>19</th>\n",
              "      <td>The Color Of You</td>\n",
              "      <td>4</td>\n",
              "      <td>0wNenHPLy8qwMfxHTqScoR</td>\n",
              "      <td>Coming To My Senses</td>\n",
              "      <td>spotify:track:0wNenHPLy8qwMfxHTqScoR</td>\n",
              "      <td>0.342000</td>\n",
              "      <td>0.618</td>\n",
              "      <td>0.431</td>\n",
              "      <td>0.000058</td>\n",
              "      <td>0.1690</td>\n",
              "      <td>-10.481</td>\n",
              "      <td>0.0483</td>\n",
              "      <td>80.062</td>\n",
              "      <td>0.210</td>\n",
              "      <td>49</td>\n",
              "    </tr>\n",
              "    <tr>\n",
              "      <th>20</th>\n",
              "      <td>The Color Of You</td>\n",
              "      <td>5</td>\n",
              "      <td>3H2OWez1soN1GT4me4j53A</td>\n",
              "      <td>I Don't Even Know Why Though</td>\n",
              "      <td>spotify:track:3H2OWez1soN1GT4me4j53A</td>\n",
              "      <td>0.017400</td>\n",
              "      <td>0.605</td>\n",
              "      <td>0.505</td>\n",
              "      <td>0.000370</td>\n",
              "      <td>0.3260</td>\n",
              "      <td>-5.842</td>\n",
              "      <td>0.0456</td>\n",
              "      <td>137.046</td>\n",
              "      <td>0.474</td>\n",
              "      <td>50</td>\n",
              "    </tr>\n",
              "    <tr>\n",
              "      <th>21</th>\n",
              "      <td>The Color Of You</td>\n",
              "      <td>6</td>\n",
              "      <td>1u1VSSLBKzPWlbuwVqLGMl</td>\n",
              "      <td>Tainted</td>\n",
              "      <td>spotify:track:1u1VSSLBKzPWlbuwVqLGMl</td>\n",
              "      <td>0.072400</td>\n",
              "      <td>0.600</td>\n",
              "      <td>0.451</td>\n",
              "      <td>0.000000</td>\n",
              "      <td>0.1160</td>\n",
              "      <td>-10.234</td>\n",
              "      <td>0.0732</td>\n",
              "      <td>63.489</td>\n",
              "      <td>0.191</td>\n",
              "      <td>51</td>\n",
              "    </tr>\n",
              "    <tr>\n",
              "      <th>22</th>\n",
              "      <td>The Color Of You</td>\n",
              "      <td>7</td>\n",
              "      <td>7hH0Gyd35BgcBLyWwY6yy9</td>\n",
              "      <td>The One (feat. Jada)</td>\n",
              "      <td>spotify:track:7hH0Gyd35BgcBLyWwY6yy9</td>\n",
              "      <td>0.301000</td>\n",
              "      <td>0.591</td>\n",
              "      <td>0.396</td>\n",
              "      <td>0.000042</td>\n",
              "      <td>0.1090</td>\n",
              "      <td>-9.684</td>\n",
              "      <td>0.0973</td>\n",
              "      <td>78.011</td>\n",
              "      <td>0.516</td>\n",
              "      <td>47</td>\n",
              "    </tr>\n",
              "    <tr>\n",
              "      <th>23</th>\n",
              "      <td>The Color Of You</td>\n",
              "      <td>8</td>\n",
              "      <td>3ggvoFaWTbh3ZfOg05vrh0</td>\n",
              "      <td>Yours</td>\n",
              "      <td>spotify:track:3ggvoFaWTbh3ZfOg05vrh0</td>\n",
              "      <td>0.843000</td>\n",
              "      <td>0.476</td>\n",
              "      <td>0.363</td>\n",
              "      <td>0.024400</td>\n",
              "      <td>0.1360</td>\n",
              "      <td>-10.331</td>\n",
              "      <td>0.0403</td>\n",
              "      <td>114.069</td>\n",
              "      <td>0.185</td>\n",
              "      <td>53</td>\n",
              "    </tr>\n",
              "    <tr>\n",
              "      <th>24</th>\n",
              "      <td>The Color Of You</td>\n",
              "      <td>9</td>\n",
              "      <td>2mj7x99sNUsVHPBRK51zlG</td>\n",
              "      <td>Electric (feat. Khalid)</td>\n",
              "      <td>spotify:track:2mj7x99sNUsVHPBRK51zlG</td>\n",
              "      <td>0.738000</td>\n",
              "      <td>0.599</td>\n",
              "      <td>0.396</td>\n",
              "      <td>0.000022</td>\n",
              "      <td>0.1020</td>\n",
              "      <td>-10.489</td>\n",
              "      <td>0.0392</td>\n",
              "      <td>111.072</td>\n",
              "      <td>0.134</td>\n",
              "      <td>71</td>\n",
              "    </tr>\n",
              "    <tr>\n",
              "      <th>25</th>\n",
              "      <td>Urban Flora (Remixes)</td>\n",
              "      <td>1</td>\n",
              "      <td>69zaTg1BjjH3JjDNWinPmA</td>\n",
              "      <td>Pretty Thoughts - FKJ Remix</td>\n",
              "      <td>spotify:track:69zaTg1BjjH3JjDNWinPmA</td>\n",
              "      <td>0.112000</td>\n",
              "      <td>0.797</td>\n",
              "      <td>0.505</td>\n",
              "      <td>0.000622</td>\n",
              "      <td>0.1080</td>\n",
              "      <td>-9.029</td>\n",
              "      <td>0.0828</td>\n",
              "      <td>141.001</td>\n",
              "      <td>0.505</td>\n",
              "      <td>44</td>\n",
              "    </tr>\n",
              "    <tr>\n",
              "      <th>26</th>\n",
              "      <td>Urban Flora (Remixes)</td>\n",
              "      <td>2</td>\n",
              "      <td>68qzmS62XAAmCIzCw01vg4</td>\n",
              "      <td>Fantasy - Felix Jaehn Remix</td>\n",
              "      <td>spotify:track:68qzmS62XAAmCIzCw01vg4</td>\n",
              "      <td>0.011800</td>\n",
              "      <td>0.638</td>\n",
              "      <td>0.781</td>\n",
              "      <td>0.009530</td>\n",
              "      <td>0.3490</td>\n",
              "      <td>-6.848</td>\n",
              "      <td>0.0285</td>\n",
              "      <td>122.985</td>\n",
              "      <td>0.250</td>\n",
              "      <td>48</td>\n",
              "    </tr>\n",
              "    <tr>\n",
              "      <th>27</th>\n",
              "      <td>Urban Flora (Remixes)</td>\n",
              "      <td>3</td>\n",
              "      <td>2hem6r6GDGZx48JXgYHeaZ</td>\n",
              "      <td>Fantasy - Pomo Remix</td>\n",
              "      <td>spotify:track:2hem6r6GDGZx48JXgYHeaZ</td>\n",
              "      <td>0.126000</td>\n",
              "      <td>0.761</td>\n",
              "      <td>0.698</td>\n",
              "      <td>0.025900</td>\n",
              "      <td>0.1070</td>\n",
              "      <td>-6.294</td>\n",
              "      <td>0.0998</td>\n",
              "      <td>115.011</td>\n",
              "      <td>0.586</td>\n",
              "      <td>31</td>\n",
              "    </tr>\n",
              "    <tr>\n",
              "      <th>28</th>\n",
              "      <td>Urban Flora (Remixes)</td>\n",
              "      <td>4</td>\n",
              "      <td>3RleECq7tCFPEu6J77Sf7i</td>\n",
              "      <td>Fantasy - TEEMID Remix</td>\n",
              "      <td>spotify:track:3RleECq7tCFPEu6J77Sf7i</td>\n",
              "      <td>0.000511</td>\n",
              "      <td>0.695</td>\n",
              "      <td>0.883</td>\n",
              "      <td>0.001660</td>\n",
              "      <td>0.1770</td>\n",
              "      <td>-5.193</td>\n",
              "      <td>0.0501</td>\n",
              "      <td>119.938</td>\n",
              "      <td>0.599</td>\n",
              "      <td>31</td>\n",
              "    </tr>\n",
              "    <tr>\n",
              "      <th>29</th>\n",
              "      <td>Urban Flora (Remixes)</td>\n",
              "      <td>5</td>\n",
              "      <td>5kZRMTGPlnEj38rGLvaha7</td>\n",
              "      <td>Fantasy - Mark Ralph Re-Work</td>\n",
              "      <td>spotify:track:5kZRMTGPlnEj38rGLvaha7</td>\n",
              "      <td>0.163000</td>\n",
              "      <td>0.650</td>\n",
              "      <td>0.712</td>\n",
              "      <td>0.000000</td>\n",
              "      <td>0.3390</td>\n",
              "      <td>-6.581</td>\n",
              "      <td>0.0303</td>\n",
              "      <td>113.971</td>\n",
              "      <td>0.396</td>\n",
              "      <td>32</td>\n",
              "    </tr>\n",
              "    <tr>\n",
              "      <th>30</th>\n",
              "      <td>Urban Flora (Remixes)</td>\n",
              "      <td>6</td>\n",
              "      <td>4UWbbShoLWmK3Xs00O4cRP</td>\n",
              "      <td>Fantasy - Vices Remix</td>\n",
              "      <td>spotify:track:4UWbbShoLWmK3Xs00O4cRP</td>\n",
              "      <td>0.024500</td>\n",
              "      <td>0.669</td>\n",
              "      <td>0.571</td>\n",
              "      <td>0.000624</td>\n",
              "      <td>0.0852</td>\n",
              "      <td>-5.199</td>\n",
              "      <td>0.0621</td>\n",
              "      <td>144.043</td>\n",
              "      <td>0.204</td>\n",
              "      <td>36</td>\n",
              "    </tr>\n",
              "    <tr>\n",
              "      <th>31</th>\n",
              "      <td>Urban Flora (Remixes)</td>\n",
              "      <td>7</td>\n",
              "      <td>64KZXmYFqipp1jVP23bdip</td>\n",
              "      <td>Fantasy - BLU J Remix</td>\n",
              "      <td>spotify:track:64KZXmYFqipp1jVP23bdip</td>\n",
              "      <td>0.040500</td>\n",
              "      <td>0.587</td>\n",
              "      <td>0.601</td>\n",
              "      <td>0.000000</td>\n",
              "      <td>0.1400</td>\n",
              "      <td>-7.646</td>\n",
              "      <td>0.2340</td>\n",
              "      <td>130.072</td>\n",
              "      <td>0.375</td>\n",
              "      <td>29</td>\n",
              "    </tr>\n",
              "    <tr>\n",
              "      <th>32</th>\n",
              "      <td>Urban Flora (Remixes)</td>\n",
              "      <td>8</td>\n",
              "      <td>0AmcmWk6P50ZY0ucwk0qBe</td>\n",
              "      <td>Make You Feel - Hotel Garuda Remix</td>\n",
              "      <td>spotify:track:0AmcmWk6P50ZY0ucwk0qBe</td>\n",
              "      <td>0.125000</td>\n",
              "      <td>0.685</td>\n",
              "      <td>0.812</td>\n",
              "      <td>0.334000</td>\n",
              "      <td>0.1010</td>\n",
              "      <td>-6.024</td>\n",
              "      <td>0.0340</td>\n",
              "      <td>110.014</td>\n",
              "      <td>0.194</td>\n",
              "      <td>36</td>\n",
              "    </tr>\n",
              "    <tr>\n",
              "      <th>33</th>\n",
              "      <td>Urban Flora (Remixes)</td>\n",
              "      <td>9</td>\n",
              "      <td>279l3n6mElAOr915ryxHFa</td>\n",
              "      <td>Make You Feel - Ark Patrol Remix</td>\n",
              "      <td>spotify:track:279l3n6mElAOr915ryxHFa</td>\n",
              "      <td>0.611000</td>\n",
              "      <td>0.527</td>\n",
              "      <td>0.575</td>\n",
              "      <td>0.007120</td>\n",
              "      <td>0.1800</td>\n",
              "      <td>-7.581</td>\n",
              "      <td>0.0452</td>\n",
              "      <td>93.989</td>\n",
              "      <td>0.328</td>\n",
              "      <td>30</td>\n",
              "    </tr>\n",
              "    <tr>\n",
              "      <th>34</th>\n",
              "      <td>Urban Flora (Remixes)</td>\n",
              "      <td>10</td>\n",
              "      <td>6FGHG0d5qokq4HfGtw3Sl4</td>\n",
              "      <td>Make You Feel - Le Youth Remix</td>\n",
              "      <td>spotify:track:6FGHG0d5qokq4HfGtw3Sl4</td>\n",
              "      <td>0.013000</td>\n",
              "      <td>0.660</td>\n",
              "      <td>0.971</td>\n",
              "      <td>0.038700</td>\n",
              "      <td>0.3140</td>\n",
              "      <td>-4.863</td>\n",
              "      <td>0.0746</td>\n",
              "      <td>120.965</td>\n",
              "      <td>0.963</td>\n",
              "      <td>25</td>\n",
              "    </tr>\n",
              "    <tr>\n",
              "      <th>35</th>\n",
              "      <td>Urban Flora (Remixes)</td>\n",
              "      <td>11</td>\n",
              "      <td>0Qx8jvheNuGmtdozRDrsNQ</td>\n",
              "      <td>Make You Feel - Kerala Remix</td>\n",
              "      <td>spotify:track:0Qx8jvheNuGmtdozRDrsNQ</td>\n",
              "      <td>0.055900</td>\n",
              "      <td>0.645</td>\n",
              "      <td>0.885</td>\n",
              "      <td>0.030900</td>\n",
              "      <td>0.0741</td>\n",
              "      <td>-5.351</td>\n",
              "      <td>0.0289</td>\n",
              "      <td>109.968</td>\n",
              "      <td>0.354</td>\n",
              "      <td>28</td>\n",
              "    </tr>\n",
              "    <tr>\n",
              "      <th>36</th>\n",
              "      <td>Urban Flora (Remixes)</td>\n",
              "      <td>12</td>\n",
              "      <td>5CWTDh8ieBnUdGqTIIKI4k</td>\n",
              "      <td>Can I - Tez Cadey Remix</td>\n",
              "      <td>spotify:track:5CWTDh8ieBnUdGqTIIKI4k</td>\n",
              "      <td>0.010600</td>\n",
              "      <td>0.824</td>\n",
              "      <td>0.456</td>\n",
              "      <td>0.002520</td>\n",
              "      <td>0.0852</td>\n",
              "      <td>-10.515</td>\n",
              "      <td>0.0427</td>\n",
              "      <td>121.992</td>\n",
              "      <td>0.371</td>\n",
              "      <td>42</td>\n",
              "    </tr>\n",
              "    <tr>\n",
              "      <th>37</th>\n",
              "      <td>Urban Flora (Remixes)</td>\n",
              "      <td>13</td>\n",
              "      <td>51el26uRRrxLUcpvlZMKvh</td>\n",
              "      <td>Can I - GEOTHEORY Remix</td>\n",
              "      <td>spotify:track:51el26uRRrxLUcpvlZMKvh</td>\n",
              "      <td>0.176000</td>\n",
              "      <td>0.684</td>\n",
              "      <td>0.648</td>\n",
              "      <td>0.001810</td>\n",
              "      <td>0.1180</td>\n",
              "      <td>-10.292</td>\n",
              "      <td>0.1180</td>\n",
              "      <td>125.004</td>\n",
              "      <td>0.443</td>\n",
              "      <td>27</td>\n",
              "    </tr>\n",
              "    <tr>\n",
              "      <th>38</th>\n",
              "      <td>Urban Flora</td>\n",
              "      <td>1</td>\n",
              "      <td>4fvYU9z5abXplnTpdeejJs</td>\n",
              "      <td>Show Me</td>\n",
              "      <td>spotify:track:4fvYU9z5abXplnTpdeejJs</td>\n",
              "      <td>0.140000</td>\n",
              "      <td>0.532</td>\n",
              "      <td>0.622</td>\n",
              "      <td>0.000000</td>\n",
              "      <td>0.1210</td>\n",
              "      <td>-8.723</td>\n",
              "      <td>0.1430</td>\n",
              "      <td>99.920</td>\n",
              "      <td>0.216</td>\n",
              "      <td>55</td>\n",
              "    </tr>\n",
              "    <tr>\n",
              "      <th>39</th>\n",
              "      <td>Urban Flora</td>\n",
              "      <td>2</td>\n",
              "      <td>1CvsOSuVunHxebUvgftR3P</td>\n",
              "      <td>Drift</td>\n",
              "      <td>spotify:track:1CvsOSuVunHxebUvgftR3P</td>\n",
              "      <td>0.550000</td>\n",
              "      <td>0.479</td>\n",
              "      <td>0.348</td>\n",
              "      <td>0.002500</td>\n",
              "      <td>0.1040</td>\n",
              "      <td>-9.708</td>\n",
              "      <td>0.0290</td>\n",
              "      <td>86.374</td>\n",
              "      <td>0.147</td>\n",
              "      <td>43</td>\n",
              "    </tr>\n",
              "    <tr>\n",
              "      <th>40</th>\n",
              "      <td>Urban Flora</td>\n",
              "      <td>3</td>\n",
              "      <td>65jAAJsVwn1GaToyDX44Z3</td>\n",
              "      <td>Can I</td>\n",
              "      <td>spotify:track:65jAAJsVwn1GaToyDX44Z3</td>\n",
              "      <td>0.325000</td>\n",
              "      <td>0.364</td>\n",
              "      <td>0.537</td>\n",
              "      <td>0.000000</td>\n",
              "      <td>0.1280</td>\n",
              "      <td>-8.123</td>\n",
              "      <td>0.0622</td>\n",
              "      <td>200.620</td>\n",
              "      <td>0.106</td>\n",
              "      <td>54</td>\n",
              "    </tr>\n",
              "    <tr>\n",
              "      <th>41</th>\n",
              "      <td>Urban Flora</td>\n",
              "      <td>4</td>\n",
              "      <td>11OoUqXLghsFEEh47JeALh</td>\n",
              "      <td>Fantasy</td>\n",
              "      <td>spotify:track:11OoUqXLghsFEEh47JeALh</td>\n",
              "      <td>0.353000</td>\n",
              "      <td>0.680</td>\n",
              "      <td>0.747</td>\n",
              "      <td>0.000000</td>\n",
              "      <td>0.1380</td>\n",
              "      <td>-6.056</td>\n",
              "      <td>0.0910</td>\n",
              "      <td>113.933</td>\n",
              "      <td>0.331</td>\n",
              "      <td>58</td>\n",
              "    </tr>\n",
              "    <tr>\n",
              "      <th>42</th>\n",
              "      <td>Urban Flora</td>\n",
              "      <td>5</td>\n",
              "      <td>5VzbhVg77OSCpuMDfjdL72</td>\n",
              "      <td>Make You Feel</td>\n",
              "      <td>spotify:track:5VzbhVg77OSCpuMDfjdL72</td>\n",
              "      <td>0.787000</td>\n",
              "      <td>0.700</td>\n",
              "      <td>0.430</td>\n",
              "      <td>0.000476</td>\n",
              "      <td>0.1290</td>\n",
              "      <td>-8.437</td>\n",
              "      <td>0.0399</td>\n",
              "      <td>100.008</td>\n",
              "      <td>0.103</td>\n",
              "      <td>56</td>\n",
              "    </tr>\n",
              "    <tr>\n",
              "      <th>43</th>\n",
              "      <td>Urban Flora</td>\n",
              "      <td>6</td>\n",
              "      <td>3HURquaJYVQDG7J47VnYL8</td>\n",
              "      <td>Maybe</td>\n",
              "      <td>spotify:track:3HURquaJYVQDG7J47VnYL8</td>\n",
              "      <td>0.191000</td>\n",
              "      <td>0.379</td>\n",
              "      <td>0.556</td>\n",
              "      <td>0.000000</td>\n",
              "      <td>0.4750</td>\n",
              "      <td>-7.820</td>\n",
              "      <td>0.3100</td>\n",
              "      <td>180.321</td>\n",
              "      <td>0.199</td>\n",
              "      <td>52</td>\n",
              "    </tr>\n",
              "    <tr>\n",
              "      <th>44</th>\n",
              "      <td>Urban Flora</td>\n",
              "      <td>7</td>\n",
              "      <td>6bY3LFFbR70Cpt8cvvIhQb</td>\n",
              "      <td>Pretty Thoughts</td>\n",
              "      <td>spotify:track:6bY3LFFbR70Cpt8cvvIhQb</td>\n",
              "      <td>0.178000</td>\n",
              "      <td>0.409</td>\n",
              "      <td>0.485</td>\n",
              "      <td>0.000002</td>\n",
              "      <td>0.1930</td>\n",
              "      <td>-8.774</td>\n",
              "      <td>0.1020</td>\n",
              "      <td>59.050</td>\n",
              "      <td>0.119</td>\n",
              "      <td>43</td>\n",
              "    </tr>\n",
              "    <tr>\n",
              "      <th>45</th>\n",
              "      <td>Urban Flora</td>\n",
              "      <td>8</td>\n",
              "      <td>2iXWHGaJZPUUKzuvVDumra</td>\n",
              "      <td>Unfold</td>\n",
              "      <td>spotify:track:2iXWHGaJZPUUKzuvVDumra</td>\n",
              "      <td>0.675000</td>\n",
              "      <td>0.638</td>\n",
              "      <td>0.500</td>\n",
              "      <td>0.001170</td>\n",
              "      <td>0.2350</td>\n",
              "      <td>-8.714</td>\n",
              "      <td>0.0375</td>\n",
              "      <td>111.945</td>\n",
              "      <td>0.194</td>\n",
              "      <td>56</td>\n",
              "    </tr>\n",
              "  </tbody>\n",
              "</table>\n",
              "</div>"
            ],
            "text/plain": [
              "                    album  track_number  ... valence popularity\n",
              "0           It Was Divine             1  ...   0.336         61\n",
              "1           It Was Divine             2  ...   0.514         60\n",
              "2           It Was Divine             3  ...   0.172         59\n",
              "3           It Was Divine             4  ...   0.435         59\n",
              "4           It Was Divine             5  ...   0.676         59\n",
              "5           It Was Divine             6  ...   0.521         67\n",
              "6           It Was Divine             7  ...   0.253         60\n",
              "7           It Was Divine             8  ...   0.343         59\n",
              "8           It Was Divine             9  ...   0.040         62\n",
              "9           It Was Divine            10  ...   0.237         56\n",
              "10          It Was Divine            11  ...   0.254         57\n",
              "11          It Was Divine            12  ...   0.261         56\n",
              "12          It Was Divine            13  ...   0.405         56\n",
              "13          It Was Divine            14  ...   0.655         54\n",
              "14          It Was Divine            15  ...   0.214         57\n",
              "15          It Was Divine            16  ...   0.291         54\n",
              "16       The Color Of You             1  ...   0.343         52\n",
              "17       The Color Of You             2  ...   0.578         71\n",
              "18       The Color Of You             3  ...   0.259         53\n",
              "19       The Color Of You             4  ...   0.210         49\n",
              "20       The Color Of You             5  ...   0.474         50\n",
              "21       The Color Of You             6  ...   0.191         51\n",
              "22       The Color Of You             7  ...   0.516         47\n",
              "23       The Color Of You             8  ...   0.185         53\n",
              "24       The Color Of You             9  ...   0.134         71\n",
              "25  Urban Flora (Remixes)             1  ...   0.505         44\n",
              "26  Urban Flora (Remixes)             2  ...   0.250         48\n",
              "27  Urban Flora (Remixes)             3  ...   0.586         31\n",
              "28  Urban Flora (Remixes)             4  ...   0.599         31\n",
              "29  Urban Flora (Remixes)             5  ...   0.396         32\n",
              "30  Urban Flora (Remixes)             6  ...   0.204         36\n",
              "31  Urban Flora (Remixes)             7  ...   0.375         29\n",
              "32  Urban Flora (Remixes)             8  ...   0.194         36\n",
              "33  Urban Flora (Remixes)             9  ...   0.328         30\n",
              "34  Urban Flora (Remixes)            10  ...   0.963         25\n",
              "35  Urban Flora (Remixes)            11  ...   0.354         28\n",
              "36  Urban Flora (Remixes)            12  ...   0.371         42\n",
              "37  Urban Flora (Remixes)            13  ...   0.443         27\n",
              "38            Urban Flora             1  ...   0.216         55\n",
              "39            Urban Flora             2  ...   0.147         43\n",
              "40            Urban Flora             3  ...   0.106         54\n",
              "41            Urban Flora             4  ...   0.331         58\n",
              "42            Urban Flora             5  ...   0.103         56\n",
              "43            Urban Flora             6  ...   0.199         52\n",
              "44            Urban Flora             7  ...   0.119         43\n",
              "45            Urban Flora             8  ...   0.194         56\n",
              "\n",
              "[46 rows x 15 columns]"
            ]
          },
          "metadata": {
            "tags": []
          },
          "execution_count": 72
        }
      ]
    },
    {
      "cell_type": "code",
      "metadata": {
        "id": "cQaDF2d0ZqRP",
        "colab_type": "code",
        "colab": {}
      },
      "source": [
        ""
      ],
      "execution_count": 0,
      "outputs": []
    },
    {
      "cell_type": "markdown",
      "metadata": {
        "id": "qAhWkhy0hJn2",
        "colab_type": "text"
      },
      "source": [
        "# Matplotlib and Seaborn \n",
        "\n"
      ]
    },
    {
      "cell_type": "code",
      "metadata": {
        "id": "IAoNDJe5hQXj",
        "colab_type": "code",
        "outputId": "35621531-7806-4416-ab95-c60a5ec05611",
        "colab": {
          "base_uri": "https://localhost:8080/",
          "height": 1000
        }
      },
      "source": [
        "!pip install jupyterthemes "
      ],
      "execution_count": 0,
      "outputs": [
        {
          "output_type": "stream",
          "text": [
            "Collecting jupyterthemes\n",
            "\u001b[?25l  Downloading https://files.pythonhosted.org/packages/8a/08/9dee6dfd7f2aad6c30282d55c8f495b4dc1e4747b4e2bdbeb80572ddf312/jupyterthemes-0.20.0-py2.py3-none-any.whl (7.0MB)\n",
            "\u001b[K     |████████████████████████████████| 7.0MB 2.5MB/s \n",
            "\u001b[?25hRequirement already satisfied: ipython>=5.4.1 in /usr/local/lib/python3.6/dist-packages (from jupyterthemes) (5.5.0)\n",
            "Requirement already satisfied: jupyter-core in /usr/local/lib/python3.6/dist-packages (from jupyterthemes) (4.6.3)\n",
            "Collecting notebook>=5.6.0\n",
            "\u001b[?25l  Downloading https://files.pythonhosted.org/packages/b1/f1/0a67f09ef53a342403ffa66646ee39273e0ac79ffa5de5dbe2f3e28b5bdf/notebook-6.0.3-py3-none-any.whl (9.7MB)\n",
            "\u001b[K     |████████████████████████████████| 9.7MB 32.0MB/s \n",
            "\u001b[?25hRequirement already satisfied: matplotlib>=1.4.3 in /usr/local/lib/python3.6/dist-packages (from jupyterthemes) (3.2.1)\n",
            "Collecting lesscpy>=0.11.2\n",
            "\u001b[?25l  Downloading https://files.pythonhosted.org/packages/f8/d2/665cda6614e3556eaeb7553a3a2963624c2e3bc9636777a1bb654b87b027/lesscpy-0.14.0-py2.py3-none-any.whl (46kB)\n",
            "\u001b[K     |████████████████████████████████| 51kB 6.5MB/s \n",
            "\u001b[?25hRequirement already satisfied: decorator in /usr/local/lib/python3.6/dist-packages (from ipython>=5.4.1->jupyterthemes) (4.4.2)\n",
            "Requirement already satisfied: prompt-toolkit<2.0.0,>=1.0.4 in /usr/local/lib/python3.6/dist-packages (from ipython>=5.4.1->jupyterthemes) (1.0.18)\n",
            "Requirement already satisfied: simplegeneric>0.8 in /usr/local/lib/python3.6/dist-packages (from ipython>=5.4.1->jupyterthemes) (0.8.1)\n",
            "Requirement already satisfied: traitlets>=4.2 in /usr/local/lib/python3.6/dist-packages (from ipython>=5.4.1->jupyterthemes) (4.3.3)\n",
            "Requirement already satisfied: pickleshare in /usr/local/lib/python3.6/dist-packages (from ipython>=5.4.1->jupyterthemes) (0.7.5)\n",
            "Requirement already satisfied: pygments in /usr/local/lib/python3.6/dist-packages (from ipython>=5.4.1->jupyterthemes) (2.1.3)\n",
            "Requirement already satisfied: setuptools>=18.5 in /usr/local/lib/python3.6/dist-packages (from ipython>=5.4.1->jupyterthemes) (47.1.1)\n",
            "Requirement already satisfied: pexpect; sys_platform != \"win32\" in /usr/local/lib/python3.6/dist-packages (from ipython>=5.4.1->jupyterthemes) (4.8.0)\n",
            "Requirement already satisfied: nbformat in /usr/local/lib/python3.6/dist-packages (from notebook>=5.6.0->jupyterthemes) (5.0.6)\n",
            "Requirement already satisfied: terminado>=0.8.1 in /usr/local/lib/python3.6/dist-packages (from notebook>=5.6.0->jupyterthemes) (0.8.3)\n",
            "Requirement already satisfied: Send2Trash in /usr/local/lib/python3.6/dist-packages (from notebook>=5.6.0->jupyterthemes) (1.5.0)\n",
            "Requirement already satisfied: jinja2 in /usr/local/lib/python3.6/dist-packages (from notebook>=5.6.0->jupyterthemes) (2.11.2)\n",
            "Requirement already satisfied: jupyter-client>=5.3.4 in /usr/local/lib/python3.6/dist-packages (from notebook>=5.6.0->jupyterthemes) (5.3.4)\n",
            "Requirement already satisfied: prometheus-client in /usr/local/lib/python3.6/dist-packages (from notebook>=5.6.0->jupyterthemes) (0.8.0)\n",
            "Requirement already satisfied: ipykernel in /usr/local/lib/python3.6/dist-packages (from notebook>=5.6.0->jupyterthemes) (4.10.1)\n",
            "Collecting tornado>=5.0\n",
            "\u001b[?25l  Downloading https://files.pythonhosted.org/packages/95/84/119a46d494f008969bf0c775cb2c6b3579d3c4cc1bb1b41a022aa93ee242/tornado-6.0.4.tar.gz (496kB)\n",
            "\u001b[K     |████████████████████████████████| 501kB 37.3MB/s \n",
            "\u001b[?25hRequirement already satisfied: ipython-genutils in /usr/local/lib/python3.6/dist-packages (from notebook>=5.6.0->jupyterthemes) (0.2.0)\n",
            "Requirement already satisfied: pyzmq>=17 in /usr/local/lib/python3.6/dist-packages (from notebook>=5.6.0->jupyterthemes) (19.0.1)\n",
            "Requirement already satisfied: nbconvert in /usr/local/lib/python3.6/dist-packages (from notebook>=5.6.0->jupyterthemes) (5.6.1)\n",
            "Requirement already satisfied: python-dateutil>=2.1 in /usr/local/lib/python3.6/dist-packages (from matplotlib>=1.4.3->jupyterthemes) (2.8.1)\n",
            "Requirement already satisfied: numpy>=1.11 in /usr/local/lib/python3.6/dist-packages (from matplotlib>=1.4.3->jupyterthemes) (1.18.4)\n",
            "Requirement already satisfied: kiwisolver>=1.0.1 in /usr/local/lib/python3.6/dist-packages (from matplotlib>=1.4.3->jupyterthemes) (1.2.0)\n",
            "Requirement already satisfied: cycler>=0.10 in /usr/local/lib/python3.6/dist-packages (from matplotlib>=1.4.3->jupyterthemes) (0.10.0)\n",
            "Requirement already satisfied: pyparsing!=2.0.4,!=2.1.2,!=2.1.6,>=2.0.1 in /usr/local/lib/python3.6/dist-packages (from matplotlib>=1.4.3->jupyterthemes) (2.4.7)\n",
            "Requirement already satisfied: six in /usr/local/lib/python3.6/dist-packages (from lesscpy>=0.11.2->jupyterthemes) (1.12.0)\n",
            "Collecting ply\n",
            "\u001b[?25l  Downloading https://files.pythonhosted.org/packages/a3/58/35da89ee790598a0700ea49b2a66594140f44dec458c07e8e3d4979137fc/ply-3.11-py2.py3-none-any.whl (49kB)\n",
            "\u001b[K     |████████████████████████████████| 51kB 7.2MB/s \n",
            "\u001b[?25hRequirement already satisfied: wcwidth in /usr/local/lib/python3.6/dist-packages (from prompt-toolkit<2.0.0,>=1.0.4->ipython>=5.4.1->jupyterthemes) (0.2.2)\n",
            "Requirement already satisfied: ptyprocess>=0.5 in /usr/local/lib/python3.6/dist-packages (from pexpect; sys_platform != \"win32\"->ipython>=5.4.1->jupyterthemes) (0.6.0)\n",
            "Requirement already satisfied: jsonschema!=2.5.0,>=2.4 in /usr/local/lib/python3.6/dist-packages (from nbformat->notebook>=5.6.0->jupyterthemes) (2.6.0)\n",
            "Requirement already satisfied: MarkupSafe>=0.23 in /usr/local/lib/python3.6/dist-packages (from jinja2->notebook>=5.6.0->jupyterthemes) (1.1.1)\n",
            "Requirement already satisfied: bleach in /usr/local/lib/python3.6/dist-packages (from nbconvert->notebook>=5.6.0->jupyterthemes) (3.1.5)\n",
            "Requirement already satisfied: pandocfilters>=1.4.1 in /usr/local/lib/python3.6/dist-packages (from nbconvert->notebook>=5.6.0->jupyterthemes) (1.4.2)\n",
            "Requirement already satisfied: entrypoints>=0.2.2 in /usr/local/lib/python3.6/dist-packages (from nbconvert->notebook>=5.6.0->jupyterthemes) (0.3)\n",
            "Requirement already satisfied: defusedxml in /usr/local/lib/python3.6/dist-packages (from nbconvert->notebook>=5.6.0->jupyterthemes) (0.6.0)\n",
            "Requirement already satisfied: testpath in /usr/local/lib/python3.6/dist-packages (from nbconvert->notebook>=5.6.0->jupyterthemes) (0.4.4)\n",
            "Requirement already satisfied: mistune<2,>=0.8.1 in /usr/local/lib/python3.6/dist-packages (from nbconvert->notebook>=5.6.0->jupyterthemes) (0.8.4)\n",
            "Requirement already satisfied: packaging in /usr/local/lib/python3.6/dist-packages (from bleach->nbconvert->notebook>=5.6.0->jupyterthemes) (20.4)\n",
            "Requirement already satisfied: webencodings in /usr/local/lib/python3.6/dist-packages (from bleach->nbconvert->notebook>=5.6.0->jupyterthemes) (0.5.1)\n",
            "Building wheels for collected packages: tornado\n",
            "  Building wheel for tornado (setup.py) ... \u001b[?25l\u001b[?25hdone\n",
            "  Created wheel for tornado: filename=tornado-6.0.4-cp36-cp36m-linux_x86_64.whl size=427637 sha256=96ea420b6c83a8a2c6bdb58259e3b0681e7882406e6d8f803a89463ccd92c079\n",
            "  Stored in directory: /root/.cache/pip/wheels/93/84/2f/409c7b2bb3afc3aa727f7ee8787975e0793f74d1165f4d0104\n",
            "Successfully built tornado\n",
            "\u001b[31mERROR: google-colab 1.0.0 has requirement notebook~=5.2.0, but you'll have notebook 6.0.3 which is incompatible.\u001b[0m\n",
            "Installing collected packages: tornado, notebook, ply, lesscpy, jupyterthemes\n",
            "  Found existing installation: tornado 4.5.3\n",
            "    Uninstalling tornado-4.5.3:\n",
            "      Successfully uninstalled tornado-4.5.3\n",
            "  Found existing installation: notebook 5.2.2\n",
            "    Uninstalling notebook-5.2.2:\n",
            "      Successfully uninstalled notebook-5.2.2\n",
            "Successfully installed jupyterthemes-0.20.0 lesscpy-0.14.0 notebook-6.0.3 ply-3.11 tornado-6.0.4\n"
          ],
          "name": "stdout"
        },
        {
          "output_type": "display_data",
          "data": {
            "application/vnd.colab-display-data+json": {
              "pip_warning": {
                "packages": [
                  "tornado"
                ]
              }
            }
          },
          "metadata": {
            "tags": []
          }
        }
      ]
    },
    {
      "cell_type": "code",
      "metadata": {
        "id": "qgDhaLitil2Z",
        "colab_type": "code",
        "outputId": "da8de5d1-cd46-4895-b82d-7636825838a9",
        "colab": {
          "base_uri": "https://localhost:8080/",
          "height": 187
        }
      },
      "source": [
        "!jt -l"
      ],
      "execution_count": 0,
      "outputs": [
        {
          "output_type": "stream",
          "text": [
            "Available Themes: \n",
            "   chesterish\n",
            "   grade3\n",
            "   gruvboxd\n",
            "   gruvboxl\n",
            "   monokai\n",
            "   oceans16\n",
            "   onedork\n",
            "   solarizedd\n",
            "   solarizedl\n"
          ],
          "name": "stdout"
        }
      ]
    },
    {
      "cell_type": "markdown",
      "metadata": {
        "id": "9Z7BbBNFjLR7",
        "colab_type": "text"
      },
      "source": [
        "# Matplotlib Scatter Plot "
      ]
    },
    {
      "cell_type": "code",
      "metadata": {
        "id": "Ic9YGDCbiRvO",
        "colab_type": "code",
        "outputId": "88a710ec-1272-4d4d-f471-2832188fdbbb",
        "colab": {
          "base_uri": "https://localhost:8080/",
          "height": 374
        }
      },
      "source": [
        "import matplotlib.pyplot as plt \n",
        "import seaborn as sns \n",
        "from jupyterthemes import jtplot \n",
        "jtplot.style(theme=\"monokai\", grid=True) \n",
        "sns.set() \n",
        "\n",
        "plt.figure()\n",
        "plt.scatter(song_df['danceability'], song_df['popularity']) "
      ],
      "execution_count": 0,
      "outputs": [
        {
          "output_type": "execute_result",
          "data": {
            "text/plain": [
              "<matplotlib.collections.PathCollection at 0x7f42422c6748>"
            ]
          },
          "metadata": {
            "tags": []
          },
          "execution_count": 77
        },
        {
          "output_type": "display_data",
          "data": {
            "image/png": "[encoded data removed]",
            "text/plain": [
              "<Figure size 460.8x403.2 with 1 Axes>"
            ]
          },
          "metadata": {
            "tags": []
          }
        }
      ]
    },
    {
      "cell_type": "markdown",
      "metadata": {
        "id": "kLPWBG8PjJqt",
        "colab_type": "text"
      },
      "source": [
        "# Seaborn Reg Plot "
      ]
    },
    {
      "cell_type": "code",
      "metadata": {
        "id": "qFnPEhjdjJCL",
        "colab_type": "code",
        "outputId": "4b006909-723b-4784-e38a-5068ec479a1b",
        "colab": {
          "base_uri": "https://localhost:8080/",
          "height": 391
        }
      },
      "source": [
        "plt.figure() \n",
        "sns.regplot(song_df['danceability'], song_df['popularity']) "
      ],
      "execution_count": 0,
      "outputs": [
        {
          "output_type": "execute_result",
          "data": {
            "text/plain": [
              "<matplotlib.axes._subplots.AxesSubplot at 0x7f424331a7f0>"
            ]
          },
          "metadata": {
            "tags": []
          },
          "execution_count": 78
        },
        {
          "output_type": "display_data",
          "data": {
            "image/png": "[encoded data removed]",
            "text/plain": [
              "<Figure size 460.8x403.2 with 1 Axes>"
            ]
          },
          "metadata": {
            "tags": []
          }
        }
      ]
    },
    {
      "cell_type": "code",
      "metadata": {
        "id": "BsR8A-w0jq8h",
        "colab_type": "code",
        "outputId": "8657ef04-8023-4f90-b172-fd6b2b1b5e51",
        "colab": {
          "base_uri": "https://localhost:8080/",
          "height": 630
        }
      },
      "source": [
        "plt.figure(figsize=(10,10)) \n",
        "sns.distplot(song_df['popularity']) "
      ],
      "execution_count": 0,
      "outputs": [
        {
          "output_type": "execute_result",
          "data": {
            "text/plain": [
              "<matplotlib.axes._subplots.AxesSubplot at 0x7f424331a780>"
            ]
          },
          "metadata": {
            "tags": []
          },
          "execution_count": 79
        },
        {
          "output_type": "display_data",
          "data": {
            "image/png": "[encoded data removed]",
            "text/plain": [
              "<Figure size 720x720 with 1 Axes>"
            ]
          },
          "metadata": {
            "tags": []
          }
        }
      ]
    },
    {
      "cell_type": "code",
      "metadata": {
        "id": "5LWApffpmTiE",
        "colab_type": "code",
        "outputId": "2aed239f-6ebe-41a1-e46b-4a67a7e58daf",
        "colab": {
          "base_uri": "https://localhost:8080/",
          "height": 34
        }
      },
      "source": [
        "albums = list(song_df['album'].value_counts().to_dict().keys()) \n",
        "albums "
      ],
      "execution_count": 0,
      "outputs": [
        {
          "output_type": "execute_result",
          "data": {
            "text/plain": [
              "['It Was Divine', 'Urban Flora (Remixes)', 'The Color Of You', 'Urban Flora']"
            ]
          },
          "metadata": {
            "tags": []
          },
          "execution_count": 81
        }
      ]
    },
    {
      "cell_type": "code",
      "metadata": {
        "id": "3bVuzngqmi27",
        "colab_type": "code",
        "colab": {}
      },
      "source": [
        "urban_flora_remixes = song_df[song_df['album'] == albums[1]] "
      ],
      "execution_count": 0,
      "outputs": []
    },
    {
      "cell_type": "code",
      "metadata": {
        "id": "rUNecOwWm5lo",
        "colab_type": "code",
        "outputId": "8ef08307-ada2-459c-d6e8-cda8c06886cb",
        "colab": {
          "base_uri": "https://localhost:8080/",
          "height": 255
        }
      },
      "source": [
        "urban_flora_remixes['danceability']  "
      ],
      "execution_count": 0,
      "outputs": [
        {
          "output_type": "execute_result",
          "data": {
            "text/plain": [
              "25    0.797\n",
              "26    0.638\n",
              "27    0.761\n",
              "28    0.695\n",
              "29    0.650\n",
              "30    0.669\n",
              "31    0.587\n",
              "32    0.685\n",
              "33    0.527\n",
              "34    0.660\n",
              "35    0.645\n",
              "36    0.824\n",
              "37    0.684\n",
              "Name: danceability, dtype: float64"
            ]
          },
          "metadata": {
            "tags": []
          },
          "execution_count": 85
        }
      ]
    },
    {
      "cell_type": "code",
      "metadata": {
        "id": "inP_2rApm9g3",
        "colab_type": "code",
        "outputId": "0237d394-11bf-4aee-ad4c-b24b69263417",
        "colab": {
          "base_uri": "https://localhost:8080/",
          "height": 630
        }
      },
      "source": [
        "plt.figure(figsize=(10,10)) \n",
        "sns.regplot(urban_flora_remixes['danceability'], urban_flora_remixes['popularity']) "
      ],
      "execution_count": 0,
      "outputs": [
        {
          "output_type": "execute_result",
          "data": {
            "text/plain": [
              "<matplotlib.axes._subplots.AxesSubplot at 0x7f4250f78b00>"
            ]
          },
          "metadata": {
            "tags": []
          },
          "execution_count": 86
        },
        {
          "output_type": "display_data",
          "data": {
            "image/png": "[encoded data removed]",
            "text/plain": [
              "<Figure size 720x720 with 1 Axes>"
            ]
          },
          "metadata": {
            "tags": []
          }
        }
      ]
    },
    {
      "cell_type": "code",
      "metadata": {
        "id": "2KX2mY8zow__",
        "colab_type": "code",
        "outputId": "5e5c7923-f95b-4639-f7ad-ec44a6a98b4d",
        "colab": {
          "base_uri": "https://localhost:8080/",
          "height": 391
        }
      },
      "source": [
        "song_df.info() "
      ],
      "execution_count": 0,
      "outputs": [
        {
          "output_type": "stream",
          "text": [
            "<class 'pandas.core.frame.DataFrame'>\n",
            "RangeIndex: 46 entries, 0 to 45\n",
            "Data columns (total 15 columns):\n",
            " #   Column            Non-Null Count  Dtype  \n",
            "---  ------            --------------  -----  \n",
            " 0   album             46 non-null     object \n",
            " 1   track_number      46 non-null     int64  \n",
            " 2   id                46 non-null     object \n",
            " 3   name              46 non-null     object \n",
            " 4   uri               46 non-null     object \n",
            " 5   acousticness      46 non-null     float64\n",
            " 6   danceability      46 non-null     float64\n",
            " 7   energy            46 non-null     float64\n",
            " 8   instrumentalness  46 non-null     float64\n",
            " 9   liveness          46 non-null     float64\n",
            " 10  loudness          46 non-null     float64\n",
            " 11  speechiness       46 non-null     float64\n",
            " 12  tempo             46 non-null     float64\n",
            " 13  valence           46 non-null     float64\n",
            " 14  popularity        46 non-null     int64  \n",
            "dtypes: float64(9), int64(2), object(4)\n",
            "memory usage: 5.5+ KB\n"
          ],
          "name": "stdout"
        }
      ]
    },
    {
      "cell_type": "code",
      "metadata": {
        "id": "GHB0EbhjozxJ",
        "colab_type": "code",
        "outputId": "e6635a02-28ab-4d9e-8acc-448ec39f23d4",
        "colab": {
          "base_uri": "https://localhost:8080/",
          "height": 193
        }
      },
      "source": [
        "song_df[(song_df['popularity'] > 40) & (song_df['album'] == albums[1])]    "
      ],
      "execution_count": 0,
      "outputs": [
        {
          "output_type": "execute_result",
          "data": {
            "text/html": [
              "<div>\n",
              "<style scoped>\n",
              "    .dataframe tbody tr th:only-of-type {\n",
              "        vertical-align: middle;\n",
              "    }\n",
              "\n",
              "    .dataframe tbody tr th {\n",
              "        vertical-align: top;\n",
              "    }\n",
              "\n",
              "    .dataframe thead th {\n",
              "        text-align: right;\n",
              "    }\n",
              "</style>\n",
              "<table border=\"1\" class=\"dataframe\">\n",
              "  <thead>\n",
              "    <tr style=\"text-align: right;\">\n",
              "      <th></th>\n",
              "      <th>album</th>\n",
              "      <th>track_number</th>\n",
              "      <th>id</th>\n",
              "      <th>name</th>\n",
              "      <th>uri</th>\n",
              "      <th>acousticness</th>\n",
              "      <th>danceability</th>\n",
              "      <th>energy</th>\n",
              "      <th>instrumentalness</th>\n",
              "      <th>liveness</th>\n",
              "      <th>loudness</th>\n",
              "      <th>speechiness</th>\n",
              "      <th>tempo</th>\n",
              "      <th>valence</th>\n",
              "      <th>popularity</th>\n",
              "    </tr>\n",
              "  </thead>\n",
              "  <tbody>\n",
              "    <tr>\n",
              "      <th>25</th>\n",
              "      <td>Urban Flora (Remixes)</td>\n",
              "      <td>1</td>\n",
              "      <td>69zaTg1BjjH3JjDNWinPmA</td>\n",
              "      <td>Pretty Thoughts - FKJ Remix</td>\n",
              "      <td>spotify:track:69zaTg1BjjH3JjDNWinPmA</td>\n",
              "      <td>0.1120</td>\n",
              "      <td>0.797</td>\n",
              "      <td>0.505</td>\n",
              "      <td>0.000622</td>\n",
              "      <td>0.1080</td>\n",
              "      <td>-9.029</td>\n",
              "      <td>0.0828</td>\n",
              "      <td>141.001</td>\n",
              "      <td>0.505</td>\n",
              "      <td>44</td>\n",
              "    </tr>\n",
              "    <tr>\n",
              "      <th>26</th>\n",
              "      <td>Urban Flora (Remixes)</td>\n",
              "      <td>2</td>\n",
              "      <td>68qzmS62XAAmCIzCw01vg4</td>\n",
              "      <td>Fantasy - Felix Jaehn Remix</td>\n",
              "      <td>spotify:track:68qzmS62XAAmCIzCw01vg4</td>\n",
              "      <td>0.0118</td>\n",
              "      <td>0.638</td>\n",
              "      <td>0.781</td>\n",
              "      <td>0.009530</td>\n",
              "      <td>0.3490</td>\n",
              "      <td>-6.848</td>\n",
              "      <td>0.0285</td>\n",
              "      <td>122.985</td>\n",
              "      <td>0.250</td>\n",
              "      <td>48</td>\n",
              "    </tr>\n",
              "    <tr>\n",
              "      <th>36</th>\n",
              "      <td>Urban Flora (Remixes)</td>\n",
              "      <td>12</td>\n",
              "      <td>5CWTDh8ieBnUdGqTIIKI4k</td>\n",
              "      <td>Can I - Tez Cadey Remix</td>\n",
              "      <td>spotify:track:5CWTDh8ieBnUdGqTIIKI4k</td>\n",
              "      <td>0.0106</td>\n",
              "      <td>0.824</td>\n",
              "      <td>0.456</td>\n",
              "      <td>0.002520</td>\n",
              "      <td>0.0852</td>\n",
              "      <td>-10.515</td>\n",
              "      <td>0.0427</td>\n",
              "      <td>121.992</td>\n",
              "      <td>0.371</td>\n",
              "      <td>42</td>\n",
              "    </tr>\n",
              "  </tbody>\n",
              "</table>\n",
              "</div>"
            ],
            "text/plain": [
              "                    album  track_number  ... valence popularity\n",
              "25  Urban Flora (Remixes)             1  ...   0.505         44\n",
              "26  Urban Flora (Remixes)             2  ...   0.250         48\n",
              "36  Urban Flora (Remixes)            12  ...   0.371         42\n",
              "\n",
              "[3 rows x 15 columns]"
            ]
          },
          "metadata": {
            "tags": []
          },
          "execution_count": 92
        }
      ]
    },
    {
      "cell_type": "code",
      "metadata": {
        "id": "QoHg10kfpKYD",
        "colab_type": "code",
        "colab": {}
      },
      "source": [
        ""
      ],
      "execution_count": 0,
      "outputs": []
    }
  ]
}